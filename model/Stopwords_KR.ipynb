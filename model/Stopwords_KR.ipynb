{
  "nbformat": 4,
  "nbformat_minor": 0,
  "metadata": {
    "colab": {
      "provenance": []
    },
    "kernelspec": {
      "name": "python3",
      "display_name": "Python 3"
    },
    "language_info": {
      "name": "python"
    }
  },
  "cells": [
    {
      "cell_type": "markdown",
      "source": [
        "# **불용어 처리**\n",
        "\n",
        "\n"
      ],
      "metadata": {
        "id": "DkYv7PaQUCTj"
      }
    },
    {
      "cell_type": "code",
      "source": [
        "!pip install konlpy"
      ],
      "metadata": {
        "colab": {
          "base_uri": "https://localhost:8080/"
        },
        "id": "GsX8uEYDWfcm",
        "outputId": "72ba7450-8e6f-47e6-a028-80ea8dec1f00"
      },
      "execution_count": 2,
      "outputs": [
        {
          "output_type": "stream",
          "name": "stdout",
          "text": [
            "Collecting konlpy\n",
            "  Downloading konlpy-0.6.0-py2.py3-none-any.whl.metadata (1.9 kB)\n",
            "Collecting JPype1>=0.7.0 (from konlpy)\n",
            "  Downloading jpype1-1.5.1-cp310-cp310-manylinux_2_17_x86_64.manylinux2014_x86_64.whl.metadata (4.9 kB)\n",
            "Requirement already satisfied: lxml>=4.1.0 in /usr/local/lib/python3.10/dist-packages (from konlpy) (5.3.0)\n",
            "Requirement already satisfied: numpy>=1.6 in /usr/local/lib/python3.10/dist-packages (from konlpy) (1.26.4)\n",
            "Requirement already satisfied: packaging in /usr/local/lib/python3.10/dist-packages (from JPype1>=0.7.0->konlpy) (24.2)\n",
            "Downloading konlpy-0.6.0-py2.py3-none-any.whl (19.4 MB)\n",
            "\u001b[2K   \u001b[90m━━━━━━━━━━━━━━━━━━━━━━━━━━━━━━━━━━━━━━━━\u001b[0m \u001b[32m19.4/19.4 MB\u001b[0m \u001b[31m80.8 MB/s\u001b[0m eta \u001b[36m0:00:00\u001b[0m\n",
            "\u001b[?25hDownloading jpype1-1.5.1-cp310-cp310-manylinux_2_17_x86_64.manylinux2014_x86_64.whl (493 kB)\n",
            "\u001b[2K   \u001b[90m━━━━━━━━━━━━━━━━━━━━━━━━━━━━━━━━━━━━━━━━\u001b[0m \u001b[32m493.8/493.8 kB\u001b[0m \u001b[31m32.3 MB/s\u001b[0m eta \u001b[36m0:00:00\u001b[0m\n",
            "\u001b[?25hInstalling collected packages: JPype1, konlpy\n",
            "Successfully installed JPype1-1.5.1 konlpy-0.6.0\n"
          ]
        }
      ]
    },
    {
      "cell_type": "markdown",
      "source": [
        "필요한 함수들"
      ],
      "metadata": {
        "id": "7mPYcDp5l01G"
      }
    },
    {
      "cell_type": "code",
      "execution_count": 25,
      "metadata": {
        "id": "T8LiFZhXT-Rk"
      },
      "outputs": [],
      "source": [
        "from konlpy.tag import Okt\n",
        "import requests\n",
        "import pandas as pd\n",
        "\n",
        "\n",
        "okt = Okt()\n",
        "\n",
        "#불용어 제거\n",
        "def remove_stopwords(sentence, stopwords_list):\n",
        "  tokens = okt.morphs(sentence)\n",
        "  filtered_tokens = [word for word in tokens if word not in stopwords_list]\n",
        "  filtered_sentence = ' '.join(filtered_tokens)\n",
        "  return filtered_sentence\n",
        "\n",
        "#Excel 파일 처리\n",
        "def process_excel_file(input_filepath,output_filepath, stopwords_list):\n",
        "  df = pd.read_excel(input_filepath)\n",
        "  df['댓글 내용']=df['댓글 내용'].apply(lambda x: remove_stopwords(str(x), stopwords_list))\n",
        "\n",
        "  df.to_excel(output_filepath, index=False)\n",
        "  print(f\"처리된 파일이 저장되었습니다: {output_filepath}\")\n",
        "  return\n",
        ""
      ]
    },
    {
      "cell_type": "markdown",
      "source": [
        "korean Stopwords 가져오기"
      ],
      "metadata": {
        "id": "ulErlYU9itpV"
      }
    },
    {
      "cell_type": "code",
      "source": [
        "!git clone https://github.com/stopwords-iso/stopwords-ko.git"
      ],
      "metadata": {
        "colab": {
          "base_uri": "https://localhost:8080/"
        },
        "id": "_STmL9lqgGUg",
        "outputId": "58ac35e9-de67-433a-e902-0dd7a074acda"
      },
      "execution_count": 16,
      "outputs": [
        {
          "output_type": "stream",
          "name": "stdout",
          "text": [
            "fatal: destination path 'stopwords-ko' already exists and is not an empty directory.\n"
          ]
        }
      ]
    },
    {
      "cell_type": "code",
      "source": [
        "with open('/content/stopwords-ko/stopwords-ko.txt', 'r') as file:\n",
        "  korean_stopwords = file.read().splitlines()"
      ],
      "metadata": {
        "id": "bMT8r2uQh_HN"
      },
      "execution_count": 22,
      "outputs": []
    },
    {
      "cell_type": "markdown",
      "source": [
        "Excel 파일 가져오기"
      ],
      "metadata": {
        "id": "OoP-H9uNll3K"
      }
    },
    {
      "cell_type": "code",
      "source": [
        "input_filepath='/content/stopwords-ko/Youtube Comments.xlsx' #필요에 따라 바꿔주세요!\n",
        "output_filepath='/content/output_file.xlsx' #필요에 따라 바꿔주세요!"
      ],
      "metadata": {
        "id": "KZIQXY5WocCi"
      },
      "execution_count": 23,
      "outputs": []
    },
    {
      "cell_type": "code",
      "source": [
        "process_excel_file(input_filepath,output_filepath, korean_stopwords)"
      ],
      "metadata": {
        "colab": {
          "base_uri": "https://localhost:8080/"
        },
        "id": "sv91QXFsoxM5",
        "outputId": "48807e0e-a92a-42a0-8b11-3d586558c0f6"
      },
      "execution_count": 26,
      "outputs": [
        {
          "output_type": "stream",
          "name": "stdout",
          "text": [
            "처리된 파일이 저장되었습니다: /content/output_file.xlsx\n"
          ]
        }
      ]
    },
    {
      "cell_type": "markdown",
      "source": [
        "불용어 제거"
      ],
      "metadata": {
        "id": "w0PiE7zxWPF4"
      }
    }
  ]
}